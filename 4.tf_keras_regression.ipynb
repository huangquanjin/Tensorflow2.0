{
 "cells": [
  {
   "cell_type": "code",
   "execution_count": 1,
   "metadata": {},
   "outputs": [
    {
     "name": "stdout",
     "output_type": "stream",
     "text": [
      "2.2.0-dev20200315\n",
      "sys.version_info(major=3, minor=6, micro=10, releaselevel='final', serial=0)\n",
      "matplotlib 3.2.1\n",
      "numpy 1.18.2\n",
      "pandas 1.0.3\n",
      "sklearn 0.22.2.post1\n",
      "tensorflow 2.2.0-dev20200315\n",
      "tensorflow.python.keras.api._v2.keras 2.2.4-tf\n"
     ]
    }
   ],
   "source": [
    "import matplotlib as mpl\n",
    "import matplotlib.pyplot as plt\n",
    "%matplotlib inline \n",
    "import numpy as np\n",
    "import sklearn\n",
    "import pandas as pd\n",
    "import os\n",
    "import sys\n",
    "import time\n",
    "import tensorflow as tf\n",
    "from tensorflow import keras\n",
    "print(tf.__version__)\n",
    "print(sys.version_info)\n",
    "for module in mpl, np, pd, sklearn, tf, keras:\n",
    "    print(module.__name__, module.__version__)"
   ]
  },
  {
   "cell_type": "code",
   "execution_count": 2,
   "metadata": {},
   "outputs": [
    {
     "name": "stdout",
     "output_type": "stream",
     "text": [
      ".. _california_housing_dataset:\n",
      "\n",
      "California Housing dataset\n",
      "--------------------------\n",
      "\n",
      "**Data Set Characteristics:**\n",
      "\n",
      "    :Number of Instances: 20640\n",
      "\n",
      "    :Number of Attributes: 8 numeric, predictive attributes and the target\n",
      "\n",
      "    :Attribute Information:\n",
      "        - MedInc        median income in block\n",
      "        - HouseAge      median house age in block\n",
      "        - AveRooms      average number of rooms\n",
      "        - AveBedrms     average number of bedrooms\n",
      "        - Population    block population\n",
      "        - AveOccup      average house occupancy\n",
      "        - Latitude      house block latitude\n",
      "        - Longitude     house block longitude\n",
      "\n",
      "    :Missing Attribute Values: None\n",
      "\n",
      "This dataset was obtained from the StatLib repository.\n",
      "http://lib.stat.cmu.edu/datasets/\n",
      "\n",
      "The target variable is the median house value for California districts.\n",
      "\n",
      "This dataset was derived from the 1990 U.S. census, using one row per census\n",
      "block group. A block group is the smallest geographical unit for which the U.S.\n",
      "Census Bureau publishes sample data (a block group typically has a population\n",
      "of 600 to 3,000 people).\n",
      "\n",
      "It can be downloaded/loaded using the\n",
      ":func:`sklearn.datasets.fetch_california_housing` function.\n",
      "\n",
      ".. topic:: References\n",
      "\n",
      "    - Pace, R. Kelley and Ronald Barry, Sparse Spatial Autoregressions,\n",
      "      Statistics and Probability Letters, 33 (1997) 291-297\n",
      "\n",
      "(20640, 8)\n",
      "(20640,)\n"
     ]
    }
   ],
   "source": [
    "from sklearn.datasets import fetch_california_housing\n",
    "\n",
    "housing = fetch_california_housing()\n",
    "print(housing.DESCR)\n",
    "print(housing.data.shape)\n",
    "print(housing.target.shape)"
   ]
  },
  {
   "cell_type": "code",
   "execution_count": 3,
   "metadata": {},
   "outputs": [
    {
     "name": "stdout",
     "output_type": "stream",
     "text": [
      "array([[ 8.32520000e+00,  4.10000000e+01,  6.98412698e+00,\n",
      "         1.02380952e+00,  3.22000000e+02,  2.55555556e+00,\n",
      "         3.78800000e+01, -1.22230000e+02],\n",
      "       [ 8.30140000e+00,  2.10000000e+01,  6.23813708e+00,\n",
      "         9.71880492e-01,  2.40100000e+03,  2.10984183e+00,\n",
      "         3.78600000e+01, -1.22220000e+02],\n",
      "       [ 7.25740000e+00,  5.20000000e+01,  8.28813559e+00,\n",
      "         1.07344633e+00,  4.96000000e+02,  2.80225989e+00,\n",
      "         3.78500000e+01, -1.22240000e+02],\n",
      "       [ 5.64310000e+00,  5.20000000e+01,  5.81735160e+00,\n",
      "         1.07305936e+00,  5.58000000e+02,  2.54794521e+00,\n",
      "         3.78500000e+01, -1.22250000e+02],\n",
      "       [ 3.84620000e+00,  5.20000000e+01,  6.28185328e+00,\n",
      "         1.08108108e+00,  5.65000000e+02,  2.18146718e+00,\n",
      "         3.78500000e+01, -1.22250000e+02]])\n",
      "array([4.526, 3.585, 3.521, 3.413, 3.422])\n"
     ]
    }
   ],
   "source": [
    "import pprint  # 打印格式好看点\n",
    "\n",
    "pprint.pprint(housing.data[0:5])\n",
    "pprint.pprint(housing.target[0:5])"
   ]
  },
  {
   "cell_type": "code",
   "execution_count": 4,
   "metadata": {},
   "outputs": [
    {
     "name": "stdout",
     "output_type": "stream",
     "text": [
      "(11610, 8) (11610,)\n",
      "(3870, 8) (3870,)\n",
      "(5160, 8) (5160,)\n",
      "(8,)\n"
     ]
    }
   ],
   "source": [
    "from sklearn.model_selection import train_test_split\n",
    "\n",
    "x_train_all, x_test, y_train_all, y_test = train_test_split(\n",
    "    housing.data, housing.target, random_state=7) # test_size=0.25(默认)，可以通过                                   \n",
    "                                                # 这个改变比例\n",
    "x_train, x_valid, y_train, y_valid = train_test_split(\n",
    "    x_train_all, y_train_all, random_state=11)\n",
    "print(x_train.shape, y_train.shape)\n",
    "print(x_valid.shape, y_valid.shape)\n",
    "print(x_test.shape, y_test.shape)\n",
    "print(x_train.shape[1:])"
   ]
  },
  {
   "cell_type": "code",
   "execution_count": 16,
   "metadata": {},
   "outputs": [],
   "source": [
    "# 归一化\n",
    "from sklearn.preprocessing import StandardScaler\n",
    "\n",
    "scaler = StandardScaler()\n",
    "x_train_scaled = scaler.fit_transform(x_train)\n",
    "x_valid_scaled = scaler.transform(x_valid)\n",
    "x_test_scaled = scaler.transform(x_test)\n"
   ]
  },
  {
   "cell_type": "code",
   "execution_count": 8,
   "metadata": {},
   "outputs": [
    {
     "name": "stdout",
     "output_type": "stream",
     "text": [
      "Model: \"sequential_1\"\n",
      "_________________________________________________________________\n",
      "Layer (type)                 Output Shape              Param #   \n",
      "=================================================================\n",
      "dense_2 (Dense)              (None, 30)                270       \n",
      "_________________________________________________________________\n",
      "dense_3 (Dense)              (None, 1)                 31        \n",
      "=================================================================\n",
      "Total params: 301\n",
      "Trainable params: 301\n",
      "Non-trainable params: 0\n",
      "_________________________________________________________________\n"
     ]
    }
   ],
   "source": [
    "model = keras.models.Sequential([\n",
    "    keras.layers.Dense(30, activation='relu', input_shape=x_train.shape[1:]),\n",
    "    keras.layers.Dense(1)\n",
    "])\n",
    "\n",
    "model.summary()\n",
    "model.compile(loss=\"mean_squared_error\", optimizer=\"sgd\")\n",
    "callbacks = [keras.callbacks.EarlyStopping(patience=15, min_delta=1e-3)]"
   ]
  },
  {
   "cell_type": "code",
   "execution_count": 9,
   "metadata": {},
   "outputs": [
    {
     "name": "stdout",
     "output_type": "stream",
     "text": [
      "Epoch 1/100\n",
      "WARNING:tensorflow:AutoGraph could not transform <function Model.make_train_function.<locals>.train_function at 0x00000247EF465EA0> and will run it as-is.\n",
      "Please report this to the TensorFlow team. When filing the bug, set the verbosity to 10 (on Linux, `export AUTOGRAPH_VERBOSITY=10`) and attach the full output.\n",
      "Cause: Bad argument number for Name: 4, expecting 3\n",
      "To silence this warning, decorate the function with @tf.autograph.experimental.do_not_convert\n",
      "WARNING: AutoGraph could not transform <function Model.make_train_function.<locals>.train_function at 0x00000247EF465EA0> and will run it as-is.\n",
      "Please report this to the TensorFlow team. When filing the bug, set the verbosity to 10 (on Linux, `export AUTOGRAPH_VERBOSITY=10`) and attach the full output.\n",
      "Cause: Bad argument number for Name: 4, expecting 3\n",
      "To silence this warning, decorate the function with @tf.autograph.experimental.do_not_convert\n",
      "317/363 [=========================>....] - ETA: 0s - loss: 1.0212WARNING:tensorflow:AutoGraph could not transform <function Model.make_test_function.<locals>.test_function at 0x00000247F20DEB70> and will run it as-is.\n",
      "Please report this to the TensorFlow team. When filing the bug, set the verbosity to 10 (on Linux, `export AUTOGRAPH_VERBOSITY=10`) and attach the full output.\n",
      "Cause: Bad argument number for Name: 4, expecting 3\n",
      "To silence this warning, decorate the function with @tf.autograph.experimental.do_not_convert\n",
      "WARNING: AutoGraph could not transform <function Model.make_test_function.<locals>.test_function at 0x00000247F20DEB70> and will run it as-is.\n",
      "Please report this to the TensorFlow team. When filing the bug, set the verbosity to 10 (on Linux, `export AUTOGRAPH_VERBOSITY=10`) and attach the full output.\n",
      "Cause: Bad argument number for Name: 4, expecting 3\n",
      "To silence this warning, decorate the function with @tf.autograph.experimental.do_not_convert\n",
      "363/363 [==============================] - 0s 1ms/step - loss: 0.9760 - val_loss: 1.3726\n",
      "Epoch 2/100\n",
      "363/363 [==============================] - 0s 896us/step - loss: 1.4587 - val_loss: 0.5233\n",
      "Epoch 3/100\n",
      "363/363 [==============================] - 0s 907us/step - loss: 0.4664 - val_loss: 0.4745\n",
      "Epoch 4/100\n",
      "363/363 [==============================] - 0s 942us/step - loss: 0.4325 - val_loss: 0.4463\n",
      "Epoch 5/100\n",
      "363/363 [==============================] - 0s 893us/step - loss: 0.4354 - val_loss: 0.4873\n",
      "Epoch 6/100\n",
      "363/363 [==============================] - 0s 953us/step - loss: 0.4927 - val_loss: 0.4196\n",
      "Epoch 7/100\n",
      "363/363 [==============================] - 0s 899us/step - loss: 0.4010 - val_loss: 0.4040\n",
      "Epoch 8/100\n",
      "363/363 [==============================] - 0s 882us/step - loss: 0.3873 - val_loss: 0.4022\n",
      "Epoch 9/100\n",
      "363/363 [==============================] - 0s 893us/step - loss: 0.3859 - val_loss: 0.3925\n",
      "Epoch 10/100\n",
      "363/363 [==============================] - 0s 904us/step - loss: 0.3736 - val_loss: 0.3897\n",
      "Epoch 11/100\n",
      "363/363 [==============================] - 0s 923us/step - loss: 0.3676 - val_loss: 0.3848\n",
      "Epoch 12/100\n",
      "363/363 [==============================] - 0s 912us/step - loss: 0.3637 - val_loss: 0.3821\n",
      "Epoch 13/100\n",
      "363/363 [==============================] - 0s 899us/step - loss: 0.3598 - val_loss: 0.3733\n",
      "Epoch 14/100\n",
      "363/363 [==============================] - 0s 896us/step - loss: 0.3570 - val_loss: 0.3728\n",
      "Epoch 15/100\n",
      "363/363 [==============================] - 0s 937us/step - loss: 0.3538 - val_loss: 0.3724\n",
      "Epoch 16/100\n",
      "363/363 [==============================] - 0s 882us/step - loss: 0.3530 - val_loss: 0.3660\n",
      "Epoch 17/100\n",
      "363/363 [==============================] - 0s 918us/step - loss: 0.3488 - val_loss: 0.3647\n",
      "Epoch 18/100\n",
      "363/363 [==============================] - 0s 918us/step - loss: 0.3554 - val_loss: 0.3680\n",
      "Epoch 19/100\n",
      "363/363 [==============================] - 0s 910us/step - loss: 0.3527 - val_loss: 0.3630\n",
      "Epoch 20/100\n",
      "363/363 [==============================] - 0s 918us/step - loss: 0.3467 - val_loss: 0.3586\n",
      "Epoch 21/100\n",
      "363/363 [==============================] - 0s 915us/step - loss: 0.3459 - val_loss: 0.3579\n",
      "Epoch 22/100\n",
      "363/363 [==============================] - 0s 912us/step - loss: 0.3411 - val_loss: 0.3566\n",
      "Epoch 23/100\n",
      "363/363 [==============================] - 0s 907us/step - loss: 0.3381 - val_loss: 0.3525\n",
      "Epoch 24/100\n",
      "363/363 [==============================] - 0s 978us/step - loss: 0.3368 - val_loss: 0.3581\n",
      "Epoch 25/100\n",
      "363/363 [==============================] - 0s 882us/step - loss: 0.3356 - val_loss: 0.3652\n",
      "Epoch 26/100\n",
      "363/363 [==============================] - 0s 942us/step - loss: 0.3326 - val_loss: 0.3521\n",
      "Epoch 27/100\n",
      "363/363 [==============================] - 0s 1ms/step - loss: 0.3325 - val_loss: 0.3500\n",
      "Epoch 28/100\n",
      "363/363 [==============================] - 0s 877us/step - loss: 0.3281 - val_loss: 0.3469\n",
      "Epoch 29/100\n",
      "363/363 [==============================] - 0s 942us/step - loss: 0.3332 - val_loss: 0.3428\n",
      "Epoch 30/100\n",
      "363/363 [==============================] - 0s 887us/step - loss: 0.3278 - val_loss: 0.3453\n",
      "Epoch 31/100\n",
      "363/363 [==============================] - 0s 915us/step - loss: 0.3269 - val_loss: 0.3446\n",
      "Epoch 32/100\n",
      "363/363 [==============================] - 0s 901us/step - loss: 0.3232 - val_loss: 0.3478\n",
      "Epoch 33/100\n",
      "363/363 [==============================] - 0s 888us/step - loss: 0.3295 - val_loss: 0.3354\n",
      "Epoch 34/100\n",
      "363/363 [==============================] - 0s 887us/step - loss: 0.3265 - val_loss: 0.3519\n",
      "Epoch 35/100\n",
      "363/363 [==============================] - 0s 882us/step - loss: 0.3593 - val_loss: 0.3474\n",
      "Epoch 36/100\n",
      "363/363 [==============================] - 0s 926us/step - loss: 0.3348 - val_loss: 0.5307\n",
      "Epoch 37/100\n",
      "363/363 [==============================] - 0s 893us/step - loss: 0.3473 - val_loss: 0.3550\n",
      "Epoch 38/100\n",
      "363/363 [==============================] - 0s 953us/step - loss: 0.3319 - val_loss: 0.3458\n",
      "Epoch 39/100\n",
      "363/363 [==============================] - 0s 890us/step - loss: 0.3288 - val_loss: 0.3421\n",
      "Epoch 40/100\n",
      "363/363 [==============================] - 0s 937us/step - loss: 0.3253 - val_loss: 0.3476\n",
      "Epoch 41/100\n",
      "363/363 [==============================] - 0s 888us/step - loss: 0.3229 - val_loss: 0.3379\n",
      "Epoch 42/100\n",
      "363/363 [==============================] - 0s 926us/step - loss: 0.3202 - val_loss: 0.3338\n",
      "Epoch 43/100\n",
      "363/363 [==============================] - 0s 887us/step - loss: 0.3200 - val_loss: 0.3368\n",
      "Epoch 44/100\n",
      "363/363 [==============================] - 0s 871us/step - loss: 0.3177 - val_loss: 0.3505\n",
      "Epoch 45/100\n",
      "363/363 [==============================] - 0s 855us/step - loss: 0.3156 - val_loss: 0.3340\n",
      "Epoch 46/100\n",
      "363/363 [==============================] - 0s 912us/step - loss: 0.3166 - val_loss: 0.3534\n",
      "Epoch 47/100\n",
      "363/363 [==============================] - 0s 912us/step - loss: 0.3151 - val_loss: 0.3286\n",
      "Epoch 48/100\n",
      "363/363 [==============================] - 0s 896us/step - loss: 0.3157 - val_loss: 0.3315\n",
      "Epoch 49/100\n",
      "363/363 [==============================] - 0s 918us/step - loss: 0.3123 - val_loss: 0.3291\n",
      "Epoch 50/100\n",
      "363/363 [==============================] - 0s 923us/step - loss: 0.3124 - val_loss: 0.3290\n",
      "Epoch 51/100\n",
      "363/363 [==============================] - 0s 876us/step - loss: 0.3102 - val_loss: 0.3246\n",
      "Epoch 52/100\n",
      "363/363 [==============================] - 0s 893us/step - loss: 0.3093 - val_loss: 0.3227\n",
      "Epoch 53/100\n",
      "363/363 [==============================] - 0s 929us/step - loss: 0.3091 - val_loss: 0.3238\n",
      "Epoch 54/100\n",
      "363/363 [==============================] - 0s 931us/step - loss: 0.3181 - val_loss: 0.3307\n",
      "Epoch 55/100\n",
      "363/363 [==============================] - 0s 901us/step - loss: 0.3139 - val_loss: 0.3304\n",
      "Epoch 56/100\n",
      "363/363 [==============================] - 0s 904us/step - loss: 0.3060 - val_loss: 0.3546\n",
      "Epoch 57/100\n",
      "363/363 [==============================] - 0s 904us/step - loss: 0.3087 - val_loss: 0.3465\n",
      "Epoch 58/100\n",
      "363/363 [==============================] - 0s 904us/step - loss: 0.3060 - val_loss: 0.3315\n",
      "Epoch 59/100\n",
      "363/363 [==============================] - 0s 918us/step - loss: 0.3335 - val_loss: 0.3794\n",
      "Epoch 60/100\n",
      "363/363 [==============================] - 0s 912us/step - loss: 0.3290 - val_loss: 0.4189\n",
      "Epoch 61/100\n",
      "363/363 [==============================] - 0s 901us/step - loss: 0.3442 - val_loss: 0.3348\n"
     ]
    },
    {
     "name": "stdout",
     "output_type": "stream",
     "text": [
      "Epoch 62/100\n",
      "363/363 [==============================] - 0s 907us/step - loss: 0.3155 - val_loss: 0.3468\n",
      "Epoch 63/100\n",
      "363/363 [==============================] - 0s 912us/step - loss: 0.3122 - val_loss: 0.3293\n",
      "Epoch 64/100\n",
      "363/363 [==============================] - 0s 865us/step - loss: 0.3111 - val_loss: 0.3275\n",
      "Epoch 65/100\n",
      "363/363 [==============================] - 0s 857us/step - loss: 0.3105 - val_loss: 0.3293\n",
      "Epoch 66/100\n",
      "363/363 [==============================] - 0s 871us/step - loss: 0.3098 - val_loss: 0.3238\n",
      "Epoch 67/100\n",
      "363/363 [==============================] - 0s 865us/step - loss: 0.3084 - val_loss: 0.3206\n",
      "Epoch 68/100\n",
      "363/363 [==============================] - 0s 901us/step - loss: 0.3075 - val_loss: 0.3260\n",
      "Epoch 69/100\n",
      "363/363 [==============================] - 0s 912us/step - loss: 0.3079 - val_loss: 0.3211\n",
      "Epoch 70/100\n",
      "363/363 [==============================] - 0s 896us/step - loss: 0.3060 - val_loss: 0.3231\n",
      "Epoch 71/100\n",
      "363/363 [==============================] - 0s 909us/step - loss: 0.3044 - val_loss: 0.3181\n",
      "Epoch 72/100\n",
      "363/363 [==============================] - 0s 915us/step - loss: 0.3041 - val_loss: 0.3176\n",
      "Epoch 73/100\n",
      "363/363 [==============================] - 0s 910us/step - loss: 0.3028 - val_loss: 0.3178\n",
      "Epoch 74/100\n",
      "363/363 [==============================] - 0s 893us/step - loss: 0.3029 - val_loss: 0.3166\n",
      "Epoch 75/100\n",
      "363/363 [==============================] - 0s 885us/step - loss: 0.3016 - val_loss: 0.3142\n",
      "Epoch 76/100\n",
      "363/363 [==============================] - 0s 890us/step - loss: 0.3010 - val_loss: 0.3155\n",
      "Epoch 77/100\n",
      "363/363 [==============================] - 0s 912us/step - loss: 0.3006 - val_loss: 0.3232\n",
      "Epoch 78/100\n",
      "363/363 [==============================] - 0s 898us/step - loss: 0.3009 - val_loss: 0.3153\n",
      "Epoch 79/100\n",
      "363/363 [==============================] - 0s 882us/step - loss: 0.3000 - val_loss: 0.3197\n",
      "Epoch 80/100\n",
      "363/363 [==============================] - 0s 909us/step - loss: 0.2997 - val_loss: 0.3160\n",
      "Epoch 81/100\n",
      "363/363 [==============================] - 0s 893us/step - loss: 0.2988 - val_loss: 0.3168\n",
      "Epoch 82/100\n",
      "363/363 [==============================] - 0s 909us/step - loss: 0.2988 - val_loss: 0.3159\n",
      "Epoch 83/100\n",
      "363/363 [==============================] - 0s 909us/step - loss: 0.2986 - val_loss: 0.3160\n",
      "Epoch 84/100\n",
      "363/363 [==============================] - 0s 967us/step - loss: 0.2986 - val_loss: 0.3149\n",
      "Epoch 85/100\n",
      "363/363 [==============================] - 0s 890us/step - loss: 0.2973 - val_loss: 0.3125\n",
      "Epoch 86/100\n",
      "363/363 [==============================] - 0s 912us/step - loss: 0.2959 - val_loss: 0.3141\n",
      "Epoch 87/100\n",
      "363/363 [==============================] - 0s 885us/step - loss: 0.2952 - val_loss: 0.3134\n",
      "Epoch 88/100\n",
      "363/363 [==============================] - 0s 901us/step - loss: 0.2947 - val_loss: 0.3099\n",
      "Epoch 89/100\n",
      "363/363 [==============================] - 0s 901us/step - loss: 0.2945 - val_loss: 0.3109\n",
      "Epoch 90/100\n",
      "363/363 [==============================] - 0s 876us/step - loss: 0.2929 - val_loss: 0.3137\n",
      "Epoch 91/100\n",
      "363/363 [==============================] - 0s 865us/step - loss: 0.2927 - val_loss: 0.3093\n",
      "Epoch 92/100\n",
      "363/363 [==============================] - 0s 874us/step - loss: 0.2916 - val_loss: 0.3093\n",
      "Epoch 93/100\n",
      "363/363 [==============================] - 0s 852us/step - loss: 0.2912 - val_loss: 0.3121\n",
      "Epoch 94/100\n",
      "363/363 [==============================] - 0s 877us/step - loss: 0.2913 - val_loss: 0.3129\n",
      "Epoch 95/100\n",
      "363/363 [==============================] - 0s 887us/step - loss: 0.2949 - val_loss: 0.3087\n",
      "Epoch 96/100\n",
      "363/363 [==============================] - 0s 901us/step - loss: 0.2954 - val_loss: 0.3107\n",
      "Epoch 97/100\n",
      "363/363 [==============================] - 0s 920us/step - loss: 0.2941 - val_loss: 0.3256\n",
      "Epoch 98/100\n",
      "363/363 [==============================] - 0s 901us/step - loss: 0.2917 - val_loss: 0.3084\n",
      "Epoch 99/100\n",
      "363/363 [==============================] - 0s 901us/step - loss: 0.2906 - val_loss: 0.3112\n",
      "Epoch 100/100\n",
      "363/363 [==============================] - 0s 890us/step - loss: 0.2912 - val_loss: 0.3072\n"
     ]
    }
   ],
   "source": [
    "history = model.fit(x_train_scaled, y_train,\n",
    "                   validation_data = (x_valid_scaled, y_valid),\n",
    "                   epochs=100,\n",
    "                   callbacks = callbacks)\n",
    "# 程序自己停止的原因是patiense时间到了，loss没变化自己停下"
   ]
  },
  {
   "cell_type": "code",
   "execution_count": 12,
   "metadata": {},
   "outputs": [
    {
     "data": {
      "image/png": "[encoded data removed]",
      "text/plain": [
       "<Figure size 576x360 with 1 Axes>"
      ]
     },
     "metadata": {
      "needs_background": "light"
     },
     "output_type": "display_data"
    }
   ],
   "source": [
    "def plot_learning_curves(history):\n",
    "    pd.DataFrame(history.history).plot(figsize=(8, 5))\n",
    "    plt.grid(True)\n",
    "    plt.gca().set_ylim(0, 1)\n",
    "    plt.show()\n",
    "plot_learning_curves(history)"
   ]
  },
  {
   "cell_type": "code",
   "execution_count": 18,
   "metadata": {},
   "outputs": [
    {
     "name": "stdout",
     "output_type": "stream",
     "text": [
      "162/162 [==============================] - 0s 579us/step - loss: 0.3109\n"
     ]
    },
    {
     "data": {
      "text/plain": [
       "0.31089094281196594"
      ]
     },
     "execution_count": 18,
     "metadata": {},
     "output_type": "execute_result"
    }
   ],
   "source": [
    "model.evaluate(x_test_scaled, y_test)"
   ]
  },
  {
   "cell_type": "code",
   "execution_count": null,
   "metadata": {},
   "outputs": [],
   "source": []
  }
 ],
 "metadata": {
  "kernelspec": {
   "display_name": "py36_tensorflow2.0_gpu",
   "language": "python",
   "name": "py36_tensorflow2.0_gpu"
  },
  "language_info": {
   "codemirror_mode": {
    "name": "ipython",
    "version": 3
   },
   "file_extension": ".py",
   "mimetype": "text/x-python",
   "name": "python",
   "nbconvert_exporter": "python",
   "pygments_lexer": "ipython3",
   "version": "3.6.10"
  }
 },
 "nbformat": 4,
 "nbformat_minor": 2
}
