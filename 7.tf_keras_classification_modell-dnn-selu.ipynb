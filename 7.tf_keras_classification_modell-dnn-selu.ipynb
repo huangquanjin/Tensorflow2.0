{
 "cells": [
  {
   "cell_type": "code",
   "execution_count": 1,
   "metadata": {},
   "outputs": [
    {
     "name": "stdout",
     "output_type": "stream",
     "text": [
      "2.2.0-dev20200315\n",
      "sys.version_info(major=3, minor=6, micro=10, releaselevel='final', serial=0)\n",
      "matplotlib 3.2.1\n",
      "numpy 1.18.2\n",
      "pandas 1.0.3\n",
      "sklearn 0.22.2.post1\n",
      "tensorflow 2.2.0-dev20200315\n",
      "tensorflow.python.keras.api._v2.keras 2.2.4-tf\n"
     ]
    }
   ],
   "source": [
    "import matplotlib as mpl\n",
    "import matplotlib.pyplot as plt\n",
    "%matplotlib inline \n",
    "import numpy as np\n",
    "import sklearn\n",
    "import pandas as pd\n",
    "import os\n",
    "import sys\n",
    "import time\n",
    "import tensorflow as tf\n",
    "from tensorflow import keras\n",
    "print(tf.__version__)\n",
    "print(sys.version_info)\n",
    "for module in mpl, np, pd, sklearn, tf, keras:\n",
    "    print(module.__name__, module.__version__)"
   ]
  },
  {
   "cell_type": "code",
   "execution_count": 2,
   "metadata": {},
   "outputs": [
    {
     "name": "stdout",
     "output_type": "stream",
     "text": [
      "(5000, 28, 28) (5000,)\n",
      "(55000, 28, 28) (55000,)\n",
      "(10000, 28, 28) (10000,)\n"
     ]
    }
   ],
   "source": [
    "fashion_mnist = keras.datasets.fashion_mnist\n",
    "(x_train_all, y_train_all), (x_test, y_test) = fashion_mnist.load_data( )\n",
    "x_valid, x_train = x_train_all[:5000], x_train_all[5000:]\n",
    "y_valid, y_train = y_train_all[:5000], y_train_all[5000:]\n",
    "print(x_valid.shape, y_valid.shape)\n",
    "print(x_train.shape, y_train.shape)\n",
    "print(x_test.shape, y_test.shape)"
   ]
  },
  {
   "cell_type": "code",
   "execution_count": 3,
   "metadata": {},
   "outputs": [],
   "source": [
    "# 归一化 x = (x- u) / std   (0,1)\n",
    "from sklearn.preprocessing import StandardScaler\n",
    "# x_train:[None, 28, 28] 三维的--> [None, 784] \n",
    "scaler = StandardScaler()\n",
    "# fit_transform要求为二维矩阵，因此需要先转换\n",
    "# 要进行除法，因此先转化为浮点型\n",
    "# x_train是三维矩阵[None,28,28]，先将其转换为二维矩阵[None,784],再将其转回三维矩阵\n",
    "# reshape（-1， 1）转化为一列(-1代表不确定几行)\n",
    "# fit: 求得训练集的均值、方差、最大值、最小值等训练集固有的属性\n",
    "# transform: 在fit的基础上，进行标准化，降维，归一化等操作\n",
    "x_train_scaled = scaler.fit_transform(\n",
    "    x_train.astype(np.float32).reshape(-1, 1)).reshape(-1, 28, 28)\n",
    "x_valid_scaled = scaler.transform(\n",
    "    x_valid.astype(np.float32).reshape(-1, 1)).reshape(-1, 28, 28)\n",
    "x_test_scaled = scaler.transform(\n",
    "    x_test.astype(np.float32).reshape(-1, 1)).reshape(-1, 28, 28)"
   ]
  },
  {
   "cell_type": "code",
   "execution_count": 11,
   "metadata": {},
   "outputs": [
    {
     "name": "stdout",
     "output_type": "stream",
     "text": [
      "(55000, 28, 28)\n"
     ]
    }
   ],
   "source": [
    "# model = keras.models.Sequential([\n",
    "#     keras.layers.Flatten(input_shape=[28, 28]),\n",
    "#     keras.layers.Dense(300, activation='relu'),\n",
    "#     keras.layers.Dense(100, activation='relu'),\n",
    "#     keras.layers.Dense(10, activation='softmax')\n",
    "# ])\n",
    "\n",
    "model = keras.models.Sequential()\n",
    "model.add(keras.layers.Flatten(input_shape=[28, 28]))\n",
    "for _ in range(20):\n",
    "    # 去掉BN层，修改激活函数为selu-->自带归一化功能的激活函数\n",
    "    model.add(keras.layers.Dense(100, activation='selu'))\n",
    "    \n",
    "#     # 添加批归一化层，有两种方法：1.放在激活函数前面 2.放在激活函数后面\n",
    "#     model.add(keras.layers.BatchNormalization())\n",
    "    \"\"\"\n",
    "    # 这是一种将BN层放在激活函数之前的形式\n",
    "    model.add(keras.layers.Dense(100)) # 没有添加激活层\n",
    "    model.add(keras.layers.BatchNormalization())\n",
    "    model.add(keras.layers.Activation('relu')) # 添加激活函数\n",
    "    \"\"\"\n",
    "model.add(keras.layers.Dense(10, activation='softmax'))\n",
    "\n",
    "\n",
    "model.compile(loss = \"sparse_categorical_crossentropy\",\n",
    "             optimizer = 'sgd',\n",
    "             metrics = ['accuracy'])\n",
    "print(x_train_scaled.shape)"
   ]
  },
  {
   "cell_type": "code",
   "execution_count": 5,
   "metadata": {},
   "outputs": [
    {
     "name": "stdout",
     "output_type": "stream",
     "text": [
      "Model: \"sequential\"\n",
      "_________________________________________________________________\n",
      "Layer (type)                 Output Shape              Param #   \n",
      "=================================================================\n",
      "flatten (Flatten)            (None, 784)               0         \n",
      "_________________________________________________________________\n",
      "dense (Dense)                (None, 100)               78500     \n",
      "_________________________________________________________________\n",
      "dense_1 (Dense)              (None, 100)               10100     \n",
      "_________________________________________________________________\n",
      "dense_2 (Dense)              (None, 100)               10100     \n",
      "_________________________________________________________________\n",
      "dense_3 (Dense)              (None, 100)               10100     \n",
      "_________________________________________________________________\n",
      "dense_4 (Dense)              (None, 100)               10100     \n",
      "_________________________________________________________________\n",
      "dense_5 (Dense)              (None, 100)               10100     \n",
      "_________________________________________________________________\n",
      "dense_6 (Dense)              (None, 100)               10100     \n",
      "_________________________________________________________________\n",
      "dense_7 (Dense)              (None, 100)               10100     \n",
      "_________________________________________________________________\n",
      "dense_8 (Dense)              (None, 100)               10100     \n",
      "_________________________________________________________________\n",
      "dense_9 (Dense)              (None, 100)               10100     \n",
      "_________________________________________________________________\n",
      "dense_10 (Dense)             (None, 100)               10100     \n",
      "_________________________________________________________________\n",
      "dense_11 (Dense)             (None, 100)               10100     \n",
      "_________________________________________________________________\n",
      "dense_12 (Dense)             (None, 100)               10100     \n",
      "_________________________________________________________________\n",
      "dense_13 (Dense)             (None, 100)               10100     \n",
      "_________________________________________________________________\n",
      "dense_14 (Dense)             (None, 100)               10100     \n",
      "_________________________________________________________________\n",
      "dense_15 (Dense)             (None, 100)               10100     \n",
      "_________________________________________________________________\n",
      "dense_16 (Dense)             (None, 100)               10100     \n",
      "_________________________________________________________________\n",
      "dense_17 (Dense)             (None, 100)               10100     \n",
      "_________________________________________________________________\n",
      "dense_18 (Dense)             (None, 100)               10100     \n",
      "_________________________________________________________________\n",
      "dense_19 (Dense)             (None, 100)               10100     \n",
      "_________________________________________________________________\n",
      "dense_20 (Dense)             (None, 10)                1010      \n",
      "=================================================================\n",
      "Total params: 271,410\n",
      "Trainable params: 271,410\n",
      "Non-trainable params: 0\n",
      "_________________________________________________________________\n"
     ]
    }
   ],
   "source": [
    "model.summary()"
   ]
  },
  {
   "cell_type": "code",
   "execution_count": 12,
   "metadata": {},
   "outputs": [
    {
     "name": "stdout",
     "output_type": "stream",
     "text": [
      "Epoch 1/10\n",
      "WARNING:tensorflow:AutoGraph could not transform <function Model.make_train_function.<locals>.train_function at 0x000001FF80E2A488> and will run it as-is.\n",
      "Please report this to the TensorFlow team. When filing the bug, set the verbosity to 10 (on Linux, `export AUTOGRAPH_VERBOSITY=10`) and attach the full output.\n",
      "Cause: Bad argument number for Name: 4, expecting 3\n",
      "To silence this warning, decorate the function with @tf.autograph.experimental.do_not_convert\n",
      "WARNING: AutoGraph could not transform <function Model.make_train_function.<locals>.train_function at 0x000001FF80E2A488> and will run it as-is.\n",
      "Please report this to the TensorFlow team. When filing the bug, set the verbosity to 10 (on Linux, `export AUTOGRAPH_VERBOSITY=10`) and attach the full output.\n",
      "Cause: Bad argument number for Name: 4, expecting 3\n",
      "To silence this warning, decorate the function with @tf.autograph.experimental.do_not_convert\n",
      "  2/313 [..............................] - ETA: 2:34 - loss: 2.3539 - accuracy: 0.2188WARNING:tensorflow:Method (on_train_batch_end) is slow compared to the batch update (0.498255). Check your callbacks.\n",
      "299/313 [===========================>..] - ETA: 0s - loss: 0.7858 - accuracy: 0.7154WARNING:tensorflow:AutoGraph could not transform <function Model.make_test_function.<locals>.test_function at 0x000001FF8085A400> and will run it as-is.\n",
      "Please report this to the TensorFlow team. When filing the bug, set the verbosity to 10 (on Linux, `export AUTOGRAPH_VERBOSITY=10`) and attach the full output.\n",
      "Cause: Bad argument number for Name: 4, expecting 3\n",
      "To silence this warning, decorate the function with @tf.autograph.experimental.do_not_convert\n",
      "WARNING: AutoGraph could not transform <function Model.make_test_function.<locals>.test_function at 0x000001FF8085A400> and will run it as-is.\n",
      "Please report this to the TensorFlow team. When filing the bug, set the verbosity to 10 (on Linux, `export AUTOGRAPH_VERBOSITY=10`) and attach the full output.\n",
      "Cause: Bad argument number for Name: 4, expecting 3\n",
      "To silence this warning, decorate the function with @tf.autograph.experimental.do_not_convert\n",
      "313/313 [==============================] - 2s 7ms/step - loss: 0.7817 - accuracy: 0.7156 - val_loss: 0.6433 - val_accuracy: 0.7642\n",
      "Epoch 2/10\n",
      "313/313 [==============================] - 1s 3ms/step - loss: 0.5495 - accuracy: 0.8040 - val_loss: 0.5296 - val_accuracy: 0.8034\n",
      "Epoch 3/10\n",
      "313/313 [==============================] - 1s 4ms/step - loss: 0.4812 - accuracy: 0.8225 - val_loss: 0.4932 - val_accuracy: 0.8246\n",
      "Epoch 4/10\n",
      "313/313 [==============================] - 1s 4ms/step - loss: 0.4352 - accuracy: 0.8416 - val_loss: 0.4754 - val_accuracy: 0.8296\n",
      "Epoch 5/10\n",
      "313/313 [==============================] - 1s 3ms/step - loss: 0.3929 - accuracy: 0.8554 - val_loss: 0.4883 - val_accuracy: 0.8274\n",
      "Epoch 6/10\n",
      "313/313 [==============================] - 1s 4ms/step - loss: 0.3733 - accuracy: 0.8622 - val_loss: 0.4366 - val_accuracy: 0.8502\n",
      "Epoch 7/10\n",
      "313/313 [==============================] - 1s 3ms/step - loss: 0.3499 - accuracy: 0.8689 - val_loss: 0.4564 - val_accuracy: 0.8408\n",
      "Epoch 8/10\n",
      "313/313 [==============================] - 1s 4ms/step - loss: 0.3277 - accuracy: 0.8788 - val_loss: 0.4693 - val_accuracy: 0.8350\n",
      "Epoch 9/10\n",
      "313/313 [==============================] - 1s 3ms/step - loss: 0.3123 - accuracy: 0.8823 - val_loss: 0.5018 - val_accuracy: 0.8310\n",
      "Epoch 10/10\n",
      "313/313 [==============================] - 1s 3ms/step - loss: 0.3003 - accuracy: 0.8886 - val_loss: 0.4828 - val_accuracy: 0.8440\n"
     ]
    }
   ],
   "source": [
    "# callbacks:Tensorboard, Earlystopping, ModelCheckpoint\n",
    "logdir = './dnn-selu-callbacks'\n",
    "if not os.path.exists(logdir):\n",
    "    os.mkdir(logdir)\n",
    "output_model_file=os.path.join(logdir, \"fashion_mnist_model.h5\")\n",
    "\n",
    "callbacks = [\n",
    "    keras.callbacks.TensorBoard(logdir),\n",
    "    keras.callbacks.ModelCheckpoint(output_model_file,\n",
    "                                   save_best_only=True),#保存最好的，如果不设置，则为最近的\n",
    "    keras.callbacks.EarlyStopping(patience=5, min_delta=1e-3)\n",
    "]\n",
    "history= model.fit(x_train_scaled, y_train, epochs=10, \n",
    "                  validation_data = (x_valid_scaled, y_valid),\n",
    "                  callbacks = callbacks)"
   ]
  },
  {
   "cell_type": "code",
   "execution_count": 7,
   "metadata": {},
   "outputs": [
    {
     "data": {
      "text/html": [
       "<div>\n",
       "<style scoped>\n",
       "    .dataframe tbody tr th:only-of-type {\n",
       "        vertical-align: middle;\n",
       "    }\n",
       "\n",
       "    .dataframe tbody tr th {\n",
       "        vertical-align: top;\n",
       "    }\n",
       "\n",
       "    .dataframe thead th {\n",
       "        text-align: right;\n",
       "    }\n",
       "</style>\n",
       "<table border=\"1\" class=\"dataframe\">\n",
       "  <thead>\n",
       "    <tr style=\"text-align: right;\">\n",
       "      <th></th>\n",
       "      <th>loss</th>\n",
       "      <th>accuracy</th>\n",
       "      <th>val_loss</th>\n",
       "      <th>val_accuracy</th>\n",
       "    </tr>\n",
       "  </thead>\n",
       "  <tbody>\n",
       "    <tr>\n",
       "      <th>0</th>\n",
       "      <td>0.560195</td>\n",
       "      <td>0.795273</td>\n",
       "      <td>0.454927</td>\n",
       "      <td>0.8366</td>\n",
       "    </tr>\n",
       "    <tr>\n",
       "      <th>1</th>\n",
       "      <td>0.410032</td>\n",
       "      <td>0.850164</td>\n",
       "      <td>0.405607</td>\n",
       "      <td>0.8540</td>\n",
       "    </tr>\n",
       "    <tr>\n",
       "      <th>2</th>\n",
       "      <td>0.365841</td>\n",
       "      <td>0.864764</td>\n",
       "      <td>0.350556</td>\n",
       "      <td>0.8722</td>\n",
       "    </tr>\n",
       "    <tr>\n",
       "      <th>3</th>\n",
       "      <td>0.338410</td>\n",
       "      <td>0.873964</td>\n",
       "      <td>0.360452</td>\n",
       "      <td>0.8706</td>\n",
       "    </tr>\n",
       "    <tr>\n",
       "      <th>4</th>\n",
       "      <td>0.316505</td>\n",
       "      <td>0.882109</td>\n",
       "      <td>0.368107</td>\n",
       "      <td>0.8690</td>\n",
       "    </tr>\n",
       "    <tr>\n",
       "      <th>5</th>\n",
       "      <td>0.300753</td>\n",
       "      <td>0.888491</td>\n",
       "      <td>0.334145</td>\n",
       "      <td>0.8796</td>\n",
       "    </tr>\n",
       "    <tr>\n",
       "      <th>6</th>\n",
       "      <td>0.286424</td>\n",
       "      <td>0.892582</td>\n",
       "      <td>0.356653</td>\n",
       "      <td>0.8704</td>\n",
       "    </tr>\n",
       "    <tr>\n",
       "      <th>7</th>\n",
       "      <td>0.274238</td>\n",
       "      <td>0.897055</td>\n",
       "      <td>0.326378</td>\n",
       "      <td>0.8806</td>\n",
       "    </tr>\n",
       "    <tr>\n",
       "      <th>8</th>\n",
       "      <td>0.263443</td>\n",
       "      <td>0.900673</td>\n",
       "      <td>0.341116</td>\n",
       "      <td>0.8712</td>\n",
       "    </tr>\n",
       "    <tr>\n",
       "      <th>9</th>\n",
       "      <td>0.254256</td>\n",
       "      <td>0.902636</td>\n",
       "      <td>0.352912</td>\n",
       "      <td>0.8794</td>\n",
       "    </tr>\n",
       "  </tbody>\n",
       "</table>\n",
       "</div>"
      ],
      "text/plain": [
       "       loss  accuracy  val_loss  val_accuracy\n",
       "0  0.560195  0.795273  0.454927        0.8366\n",
       "1  0.410032  0.850164  0.405607        0.8540\n",
       "2  0.365841  0.864764  0.350556        0.8722\n",
       "3  0.338410  0.873964  0.360452        0.8706\n",
       "4  0.316505  0.882109  0.368107        0.8690\n",
       "5  0.300753  0.888491  0.334145        0.8796\n",
       "6  0.286424  0.892582  0.356653        0.8704\n",
       "7  0.274238  0.897055  0.326378        0.8806\n",
       "8  0.263443  0.900673  0.341116        0.8712\n",
       "9  0.254256  0.902636  0.352912        0.8794"
      ]
     },
     "execution_count": 7,
     "metadata": {},
     "output_type": "execute_result"
    }
   ],
   "source": [
    "pd.DataFrame(history.history)"
   ]
  },
  {
   "cell_type": "code",
   "execution_count": 8,
   "metadata": {},
   "outputs": [
    {
     "data": {
      "image/png": "[encoded data removed]",
      "text/plain": [
       "<Figure size 576x360 with 1 Axes>"
      ]
     },
     "metadata": {
      "needs_background": "light"
     },
     "output_type": "display_data"
    }
   ],
   "source": [
    "def plot_learning_curves(history):\n",
    "    pd.DataFrame(history.history).plot(figsize=(8,5))\n",
    "    plt.grid(True)\n",
    "    plt.gca().set_ylim(0,1) # 显示坐标轴的范围\n",
    "    plt.show()\n",
    "\n",
    "plot_learning_curves(history)\n",
    "# 1.参数众多，训练不充分\n",
    "# 2.梯度消失：链式法则 --》复合函数f(g(x))求导\n",
    "# 批归一化缓解ti'du'xi"
   ]
  },
  {
   "cell_type": "code",
   "execution_count": null,
   "metadata": {},
   "outputs": [],
   "source": [
    "model.evaluate(x_test_scaled, y_test)"
   ]
  },
  {
   "cell_type": "code",
   "execution_count": null,
   "metadata": {},
   "outputs": [],
   "source": []
  }
 ],
 "metadata": {
  "kernelspec": {
   "display_name": "py36_tensorflow2.0_gpu",
   "language": "python",
   "name": "py36_tensorflow2.0_gpu"
  },
  "language_info": {
   "codemirror_mode": {
    "name": "ipython",
    "version": 3
   },
   "file_extension": ".py",
   "mimetype": "text/x-python",
   "name": "python",
   "nbconvert_exporter": "python",
   "pygments_lexer": "ipython3",
   "version": "3.6.10"
  }
 },
 "nbformat": 4,
 "nbformat_minor": 2
}
